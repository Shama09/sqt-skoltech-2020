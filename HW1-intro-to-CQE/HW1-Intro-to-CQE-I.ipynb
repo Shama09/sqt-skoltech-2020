{
 "cells": [
  {
   "cell_type": "code",
   "execution_count": null,
   "metadata": {},
   "outputs": [],
   "source": [
    "import numpy as np\n",
    "import pylab as plt"
   ]
  },
  {
   "cell_type": "markdown",
   "metadata": {},
   "source": [
    "## HW1 Introduction to Circuit Quantum Electrodynamics (15 points)"
   ]
  },
  {
   "cell_type": "markdown",
   "metadata": {},
   "source": [
    "### Part 1. Harmonic quantum circuit"
   ]
  },
  {
   "cell_type": "markdown",
   "metadata": {},
   "source": [
    "To understand the dynamics of superconducting quantum circuits we start with the linear LC resonant circuit:"
   ]
  },
  {
   "cell_type": "markdown",
   "metadata": {},
   "source": [
    "<img width=\"250px\" height=\"250px\" src=\"lc_circuit_schematic.jpg\"></img>"
   ]
  },
  {
   "cell_type": "markdown",
   "metadata": {},
   "source": [
    "The Hamiltonian $\\mathcal{H}$ for this system can be written as\n",
    "$$\\mathcal{H} = \\frac{Q^2}{2C} + \\frac{\\Phi^2}{2L},$$<br>\n",
    "where $Q$ is the charge on the capacitor and $\\Phi$ is the magnetic flux through the inductor.\n",
    "This Hamiltonian is equivalent to that of a mechanical harmonic oscillator with mass $m$ and stiffness $k$ which expressed in position $x$ and momentum $p$. In order to describe quantum behavior of the system, we need to promote $Q$ and $\\Phi$ to operators $\\hat{Q}$ and $\\hat{P}$. The canonical commutation relationship states that $[\\hat{x}, \\hat{p}] = i\\hbar$. By ising the aforementioned analogy, we can also write $[\\hat{\\Phi}, \\hat{Q}] = i\\hbar$."
   ]
  },
  {
   "cell_type": "markdown",
   "metadata": {},
   "source": [
    "In practice it is more convenient to work with the reduced flux $\\hat{\\varphi} \\equiv \\dfrac{2\\pi}{\\Phi_0} \\hat{\\Phi}$ and the reduced charge $\\hat{n} = \\dfrac{1}{2e} \\hat{Q}$, where $\\Phi_0 = \\dfrac{h}{2e}$ is the superconducting magnetic flux quantum. In this case the commutation relationship is $[\\hat{\\varphi}, \\hat{n}] = i$."
   ]
  },
  {
   "cell_type": "markdown",
   "metadata": {},
   "source": [
    "<b>Problem 1.1 (1.0 points)</b> Show that $[e^{i\\hat{\\varphi}}, \\hat{n}] = -e^{i\\hat{\\varphi}}$."
   ]
  },
  {
   "cell_type": "markdown",
   "metadata": {},
   "source": [
    "<b>Solution:</b> "
   ]
  },
  {
   "cell_type": "markdown",
   "metadata": {},
   "source": [
    "When the circuit is in a superconducting state, the current is carried by Cooper pairs, the charge is quantised by Cooper pairs, which can charge the capacitor. By using the reduced variables, the Hamiltonian (now it is an operator) can be rewritten as<br><br>\n",
    "$$\\hat{\\mathcal{H}} = E_C  \\hat{n}^2 + \\frac12 E_L \\hat{\\varphi}^2,$$<br>\n",
    "where $E_C = \\dfrac{2e^2}{C}$ is the energy required to add Cooper-pair to the capacitor and $E_L = \\dfrac{\\Phi_0^2}{4\\pi^2L}$ is the inductive energy."
   ]
  },
  {
   "cell_type": "markdown",
   "metadata": {},
   "source": [
    "### Part 2. Josephson qubit circuit: Charge qubit"
   ]
  },
  {
   "cell_type": "markdown",
   "metadata": {},
   "source": [
    "To introduce the nonlinearity to harmonic potential we replace the inductor with the Josephson junction.\n",
    "It results in the modified Hamiltonian:<br><br>\n",
    "$$\\mathcal{\\hat{H}} = E_C \\hat{n}^2 - E_J \\cos (\\hat{\\varphi}),$$<br>\n",
    "where $E_C = \\dfrac{2e^2}{C + C_J}$, $C_J$ being the self-capacitance of the junction, and $E_J = \\dfrac{I_c \\Phi_0}{2\\pi}$ is the Josephson energy with $I_c$ being the critical current."
   ]
  },
  {
   "cell_type": "markdown",
   "metadata": {},
   "source": [
    "<b>Problem 2.1 (1.0 points)</b> Using the result of Problem 1.1 find the representation of operator $\\cos(\\hat{\\varphi})$ in the basis of excess number of Cooper pairs (charge basis)."
   ]
  },
  {
   "cell_type": "markdown",
   "metadata": {},
   "source": [
    "<b>Solution:</b> "
   ]
  },
  {
   "cell_type": "markdown",
   "metadata": {},
   "source": [
    "<b>Problem 2.2 (1.0 points)</b> Write a function, that computes $\\mathcal{\\hat{H}}$ in the charge basis."
   ]
  },
  {
   "cell_type": "code",
   "execution_count": null,
   "metadata": {},
   "outputs": [],
   "source": [
    "def ChargeQubit(Ec, Ej, N = 100):\n",
    "    \"\"\"Returns charge qubit Hamiltonian\n",
    "    \n",
    "    Args:\n",
    "        Ec (float): qubit parameter.\n",
    "        Ej (float): qubit parameter.\n",
    "        N (int): defines Hamiltonian shape as (2N+1, 2N+1).\n",
    "        \n",
    "    Returns:\n",
    "        obj: matrix of charge qubit hamiltonian\n",
    "             in the charge basis\n",
    "\n",
    "    \"\"\"\n",
    "    \n",
    "    H = # your code here\n",
    "\n",
    "    return H"
   ]
  },
  {
   "cell_type": "markdown",
   "metadata": {},
   "source": [
    "In order to obtain numerical answers we can use <a href=\"http://qutip.org/download.html\">QuTiP</a> which is an open-source software for simulating the dynamics of open quantum systems. Install the latest version of QuTiP on your machine and check that your installation is correct. Suitable versions are 4.4.x and above."
   ]
  },
  {
   "cell_type": "code",
   "execution_count": null,
   "metadata": {},
   "outputs": [],
   "source": [
    "import qutip\n",
    "print(\"QuTiP version is {}\".format(qutip.__version__))"
   ]
  },
  {
   "cell_type": "markdown",
   "metadata": {},
   "source": [
    "<b>Problem 2.3 (2.0 points)</b> Plot the difference between energy levels as a function of the lowest energy for $E_C = 5$ and $E_J = 1$."
   ]
  },
  {
   "cell_type": "code",
   "execution_count": null,
   "metadata": {},
   "outputs": [],
   "source": [
    "def PlotChargeQubitDiff(vals, nfirst = 10):\n",
    "    \"\"\"Plots the energy difference as function of energy\n",
    "    \n",
    "    Args:\n",
    "        vals (obj): list of energy eigenvalues\n",
    "        nfirst (int): number of energy levels to plot\n",
    "\n",
    "    \"\"\"\n",
    "    \n",
    "    # your code here"
   ]
  },
  {
   "cell_type": "code",
   "execution_count": null,
   "metadata": {},
   "outputs": [],
   "source": [
    "vals = # your code here\n",
    "PlotChargeQubitDiff(vals)"
   ]
  },
  {
   "cell_type": "markdown",
   "metadata": {},
   "source": [
    "In order to control the behavior of energy levels we can introduce the gate charge $n_g$:<br><br>\n",
    "$$\\mathcal{\\hat{H}} = E_C (\\hat{n} - n_g)^2 - E_J \\cos (\\hat{\\varphi}).$$<br>"
   ]
  },
  {
   "cell_type": "markdown",
   "metadata": {},
   "source": [
    "<b>Problem 2.4 (1.0 points)</b> Write a function, that computes the Hamiltonian $\\mathcal{\\hat{H}}$ with $n_g$."
   ]
  },
  {
   "cell_type": "code",
   "execution_count": null,
   "metadata": {},
   "outputs": [],
   "source": [
    "def ChargeQubitNg(ng, Ec, Ej, N = 100):\n",
    "    \"\"\"Returns charge qubit Hamiltonian with ng\n",
    "    \n",
    "    Args:\n",
    "        ng (float): qubit parameter\n",
    "        Ec (float): qubit parameter\n",
    "        Ej (float): qubit parameter\n",
    "        N (int): defines Hamiltonian shape as (2N+1, 2N+1)\n",
    "        \n",
    "    Returns:\n",
    "        obj: matrix of charge qubit hamiltonian\n",
    "             with ng in the charge basis\n",
    "             \n",
    "    \"\"\"\n",
    "    \n",
    "    H = # your code here\n",
    "\n",
    "    return H"
   ]
  },
  {
   "cell_type": "markdown",
   "metadata": {},
   "source": [
    "<b>Problem 2.5 (2.0 points)</b> Plot the energy levels as a function of $n_g$ for $E_C = 5$ and $E_J = 1$."
   ]
  },
  {
   "cell_type": "code",
   "execution_count": null,
   "metadata": {},
   "outputs": [],
   "source": [
    "def PlotChargeQubitVals(ng, eigenstates, nfirst = 5):\n",
    "    \"\"\"Plots the energy spectrum\n",
    "    \n",
    "    Args:\n",
    "        ng (float): qubit parameter\n",
    "        eigenstates (obj): qubit eigenstates\n",
    "        nfirst (int): number of energy levels to plot\n",
    "\n",
    "    \"\"\"\n",
    "\n",
    "    plt.xlabel(r\"$n_g$\", fontsize=12)\n",
    "    plt.ylabel(r\"Energy, $E$\", fontsize=12)\n",
    "    \n",
    "    # your code here"
   ]
  },
  {
   "cell_type": "code",
   "execution_count": null,
   "metadata": {},
   "outputs": [],
   "source": [
    "ng = np.linspace(-1, 1, 100)\n",
    "eigenstates = # your code here"
   ]
  },
  {
   "cell_type": "code",
   "execution_count": null,
   "metadata": {},
   "outputs": [],
   "source": [
    "PlotChargeQubitVals(ng, eigenstates)"
   ]
  },
  {
   "cell_type": "markdown",
   "metadata": {},
   "source": [
    "<b>Problem 2.6 (2.0 points)</b> Plot the average charge as a function of $n_g$."
   ]
  },
  {
   "cell_type": "code",
   "execution_count": null,
   "metadata": {},
   "outputs": [],
   "source": [
    "def PlotNAverage(ng, eigenstates, nfirst = 3):\n",
    "    \"\"\"Plot the average charge as function of ng\n",
    "    \n",
    "    Args:\n",
    "        ng (float): qubit parameter\n",
    "        eigenstates (obj): qubit eigenstates\n",
    "        nfirst (int): number of energy levels to plot\n",
    "\n",
    "    \"\"\"\n",
    "    \n",
    "    plt.xlabel(r\"$n_g$\", fontsize=14)\n",
    "    plt.ylabel(r\"Average charge, $\\langle n \\rangle$\", fontsize=14)\n",
    "    \n",
    "    # your code here"
   ]
  },
  {
   "cell_type": "code",
   "execution_count": null,
   "metadata": {},
   "outputs": [],
   "source": [
    "PlotNAverage(ng, eigenstates)"
   ]
  },
  {
   "cell_type": "markdown",
   "metadata": {},
   "source": [
    "Consider the system restricted to the first two energy levels. In the small coupling regime $E_J \\ll E_C$ we have the special regions called <i>sweet spots</i>, in which the energy difference is minimal. These regions are especially easy to work with in practical applications, because they have the smallest fluctuations of charge."
   ]
  },
  {
   "cell_type": "markdown",
   "metadata": {},
   "source": [
    "<b>Problem 2.7 (2.0 points)</b> Show that in the vicinity of sweet spot the system can be\n",
    "approximated by the following Hamiltonian:<br><br>\n",
    "$$\\hat{H} = -\\frac{\\varepsilon}{2} \\sigma_z - \\frac{E_J}{2} \\sigma_x,$$\n",
    "where $\\sigma_z$ and $\\sigma_x$ are Pauli matrices."
   ]
  },
  {
   "cell_type": "markdown",
   "metadata": {},
   "source": [
    "<b>Solution:</b>"
   ]
  },
  {
   "cell_type": "markdown",
   "metadata": {},
   "source": [
    "<b>Problem 2.8 (NOT gate) (1.5 points)</b> The $\\varepsilon$ parameter in the above Hamiltonian is connected to the gate charge and can be used to manipulate the states. In order to prepare our system in the $|0\\rangle$ charge state, we can put the system away from the sweet spot and wait for some time for the thermal equilibrium. After that, we can apply the pulse of duration $\\Delta t$, during which the system will be in the sweet spot (i.e. we will have $\\varepsilon = 0$ at this time). What should be $\\Delta t$ to implement the NOT gate, which inverts the state of a system?"
   ]
  },
  {
   "cell_type": "markdown",
   "metadata": {},
   "source": [
    "<b>Solution:</b>"
   ]
  },
  {
   "cell_type": "markdown",
   "metadata": {},
   "source": [
    "<b>Problem 2.9 (Decoherence) (1.5 points)</b> The main challenge in the development of quantum systems is that they are influenced by decoherence due to flactuations of some parameters. As a simple model consider that $E_J$ has a Gaussian distribution with variance $\\Delta E_J$. What is the probability that the system will be found in the state $|1\\rangle$ after applying the NOT gate from the previous problem?\n",
    "\n",
    "<i>Hint:</i> Find the probability for the system to be in the state $|1\\rangle$ after the time $\\Delta t$ and integrate the expression over all possible values of $E_J$."
   ]
  },
  {
   "cell_type": "markdown",
   "metadata": {},
   "source": [
    "<b>Solution:</b>"
   ]
  }
 ],
 "metadata": {
  "kernelspec": {
   "display_name": "Python 3",
   "language": "python",
   "name": "python3"
  },
  "language_info": {
   "codemirror_mode": {
    "name": "ipython",
    "version": 3
   },
   "file_extension": ".py",
   "mimetype": "text/x-python",
   "name": "python",
   "nbconvert_exporter": "python",
   "pygments_lexer": "ipython3",
   "version": "3.7.4"
  }
 },
 "nbformat": 4,
 "nbformat_minor": 2
}
